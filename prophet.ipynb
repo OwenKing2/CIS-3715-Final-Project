{
 "cells": [
  {
   "cell_type": "code",
   "execution_count": 1,
   "metadata": {},
   "outputs": [
    {
     "name": "stdout",
     "output_type": "stream",
     "text": [
      "100\n"
     ]
    },
    {
     "name": "stderr",
     "output_type": "stream",
     "text": [
      "20:15:58 - cmdstanpy - INFO - Chain [1] start processing\n",
      "20:15:58 - cmdstanpy - INFO - Chain [1] done processing\n",
      "20:16:01 - cmdstanpy - INFO - Chain [1] start processing\n"
     ]
    },
    {
     "name": "stdout",
     "output_type": "stream",
     "text": [
      "600\n"
     ]
    },
    {
     "name": "stderr",
     "output_type": "stream",
     "text": [
      "20:16:01 - cmdstanpy - INFO - Chain [1] done processing\n"
     ]
    },
    {
     "name": "stdout",
     "output_type": "stream",
     "text": [
      "1100\n"
     ]
    },
    {
     "name": "stderr",
     "output_type": "stream",
     "text": [
      "20:16:04 - cmdstanpy - INFO - Chain [1] start processing\n",
      "20:16:04 - cmdstanpy - INFO - Chain [1] done processing\n"
     ]
    },
    {
     "name": "stdout",
     "output_type": "stream",
     "text": [
      "1600\n"
     ]
    },
    {
     "name": "stderr",
     "output_type": "stream",
     "text": [
      "20:16:07 - cmdstanpy - INFO - Chain [1] start processing\n",
      "20:16:07 - cmdstanpy - INFO - Chain [1] done processing\n"
     ]
    },
    {
     "name": "stdout",
     "output_type": "stream",
     "text": [
      "2100\n"
     ]
    },
    {
     "name": "stderr",
     "output_type": "stream",
     "text": [
      "20:16:10 - cmdstanpy - INFO - Chain [1] start processing\n",
      "20:16:11 - cmdstanpy - INFO - Chain [1] done processing\n"
     ]
    },
    {
     "name": "stdout",
     "output_type": "stream",
     "text": [
      "2600\n"
     ]
    },
    {
     "name": "stderr",
     "output_type": "stream",
     "text": [
      "20:16:13 - cmdstanpy - INFO - Chain [1] start processing\n",
      "20:16:14 - cmdstanpy - INFO - Chain [1] done processing\n"
     ]
    },
    {
     "name": "stdout",
     "output_type": "stream",
     "text": [
      "3100\n"
     ]
    },
    {
     "name": "stderr",
     "output_type": "stream",
     "text": [
      "20:16:16 - cmdstanpy - INFO - Chain [1] start processing\n",
      "20:16:18 - cmdstanpy - INFO - Chain [1] done processing\n"
     ]
    },
    {
     "name": "stdout",
     "output_type": "stream",
     "text": [
      "3600\n"
     ]
    },
    {
     "name": "stderr",
     "output_type": "stream",
     "text": [
      "20:16:20 - cmdstanpy - INFO - Chain [1] start processing\n",
      "20:16:22 - cmdstanpy - INFO - Chain [1] done processing\n"
     ]
    },
    {
     "name": "stdout",
     "output_type": "stream",
     "text": [
      "4100\n"
     ]
    },
    {
     "name": "stderr",
     "output_type": "stream",
     "text": [
      "20:16:24 - cmdstanpy - INFO - Chain [1] start processing\n",
      "20:16:25 - cmdstanpy - INFO - Chain [1] done processing\n"
     ]
    },
    {
     "name": "stdout",
     "output_type": "stream",
     "text": [
      "4600\n"
     ]
    },
    {
     "name": "stderr",
     "output_type": "stream",
     "text": [
      "20:16:27 - cmdstanpy - INFO - Chain [1] start processing\n",
      "20:16:29 - cmdstanpy - INFO - Chain [1] done processing\n"
     ]
    },
    {
     "name": "stdout",
     "output_type": "stream",
     "text": [
      "5100\n"
     ]
    },
    {
     "name": "stderr",
     "output_type": "stream",
     "text": [
      "20:16:31 - cmdstanpy - INFO - Chain [1] start processing\n",
      "20:16:37 - cmdstanpy - INFO - Chain [1] done processing\n"
     ]
    },
    {
     "name": "stdout",
     "output_type": "stream",
     "text": [
      "5600\n"
     ]
    },
    {
     "name": "stderr",
     "output_type": "stream",
     "text": [
      "20:16:39 - cmdstanpy - INFO - Chain [1] start processing\n",
      "20:16:42 - cmdstanpy - INFO - Chain [1] done processing\n"
     ]
    },
    {
     "name": "stdout",
     "output_type": "stream",
     "text": [
      "6100\n"
     ]
    },
    {
     "name": "stderr",
     "output_type": "stream",
     "text": [
      "20:16:44 - cmdstanpy - INFO - Chain [1] start processing\n",
      "20:16:47 - cmdstanpy - INFO - Chain [1] done processing\n"
     ]
    },
    {
     "name": "stdout",
     "output_type": "stream",
     "text": [
      "6600\n"
     ]
    },
    {
     "name": "stderr",
     "output_type": "stream",
     "text": [
      "20:16:49 - cmdstanpy - INFO - Chain [1] start processing\n",
      "20:16:52 - cmdstanpy - INFO - Chain [1] done processing\n"
     ]
    },
    {
     "name": "stdout",
     "output_type": "stream",
     "text": [
      "7100\n"
     ]
    },
    {
     "name": "stderr",
     "output_type": "stream",
     "text": [
      "20:16:54 - cmdstanpy - INFO - Chain [1] start processing\n",
      "20:17:00 - cmdstanpy - INFO - Chain [1] done processing\n"
     ]
    },
    {
     "name": "stdout",
     "output_type": "stream",
     "text": [
      "7600\n"
     ]
    },
    {
     "name": "stderr",
     "output_type": "stream",
     "text": [
      "20:17:01 - cmdstanpy - INFO - Chain [1] start processing\n",
      "20:17:10 - cmdstanpy - INFO - Chain [1] done processing\n"
     ]
    },
    {
     "name": "stdout",
     "output_type": "stream",
     "text": [
      "8100\n"
     ]
    },
    {
     "name": "stderr",
     "output_type": "stream",
     "text": [
      "20:17:11 - cmdstanpy - INFO - Chain [1] start processing\n",
      "20:17:21 - cmdstanpy - INFO - Chain [1] done processing\n"
     ]
    },
    {
     "name": "stdout",
     "output_type": "stream",
     "text": [
      "{'mae': 14.961592052543047, 'i': 7100}\n"
     ]
    }
   ],
   "source": [
    "#This is the implementation of the prophet model on our dataset\n",
    "import pandas as pd\n",
    "from prophet import Prophet\n",
    "from sklearn.metrics import mean_squared_error, mean_absolute_error\n",
    "\n",
    "# Load data\n",
    "df = pd.read_csv(\"archive/Stocks/aapl.us.txt\")\n",
    "\n",
    "# Rename columns to Prophet's expected names\n",
    "df = df.rename(columns={\"Date\": \"ds\", \"Close\": \"y\"})\n",
    "\n",
    "import datetime\n",
    "\n",
    "# convert dates from string to numerical lowers MAE and MSE\n",
    "df['ds'] = pd.to_datetime(df['ds'])\n",
    "\n",
    "import matplotlib.pyplot as plt\n",
    "low = {'mae': 0, 'i': 0}\n",
    "for i in range(100, len(df), 500):\n",
    "    print(i)\n",
    "    # split the data into training and testing sets\n",
    "    train = df.iloc[:i]\n",
    "    test = df.iloc[i:]\n",
    "    test = test.reset_index(drop=True)\n",
    "\n",
    "    # Initialize Prophet model\n",
    "    model = Prophet()\n",
    "\n",
    "    model.add_seasonality(name='weekly', period=7, fourier_order=15)\n",
    "\n",
    "    # Fit model to training data\n",
    "    model.fit(train)\n",
    "\n",
    "    # make predictions on the test data\n",
    "    predictions = model.predict(test)\n",
    "    mae = mean_absolute_error(test['y'], predictions['yhat'])\n",
    "    if i == 100:\n",
    "        low['mae'] = mae\n",
    "        low['i'] = i\n",
    "    \n",
    "    if mae < low['mae']:\n",
    "        low['mae'] = mae\n",
    "        low['i'] = i\n",
    "\n",
    "print(low)"
   ]
  },
  {
   "cell_type": "code",
   "execution_count": 3,
   "metadata": {},
   "outputs": [
    {
     "name": "stderr",
     "output_type": "stream",
     "text": [
      "20:17:51 - cmdstanpy - INFO - Chain [1] start processing\n",
      "20:18:03 - cmdstanpy - INFO - Chain [1] done processing\n"
     ]
    },
    {
     "data": {
      "image/png": "[encoded data removed]",
      "text/plain": [
       "<Figure size 640x480 with 1 Axes>"
      ]
     },
     "metadata": {},
     "output_type": "display_data"
    },
    {
     "name": "stdout",
     "output_type": "stream",
     "text": [
      "MSE: 448.9006858535038\n",
      "MAE: 18.80226812639066\n",
      "RMSE: 21.187276508638476\n"
     ]
    }
   ],
   "source": [
    "# split the data into training and testing sets\n",
    "\"\"\" train = df.iloc[:7100]\n",
    "test = df.iloc[7100:] \"\"\"\n",
    "\n",
    "test = test.reset_index(drop=True)\n",
    "\n",
    "# Initialize Prophet model\n",
    "model = Prophet()\n",
    "\n",
    "model.add_seasonality(name='weekly', period=7, fourier_order=15)\n",
    "\n",
    "# Fit model to training data\n",
    "model.fit(train)\n",
    "\n",
    "# make predictions on the test data\n",
    "predictions = model.predict(test)\n",
    "\n",
    "# Plot the predicted and actual values\n",
    "plt.plot(predictions['ds'], predictions['yhat'], label='Predicted')\n",
    "plt.plot(predictions['ds'], test['y'], label='Actual')\n",
    "plt.title(\"Prophet Model\")\n",
    "plt.xlabel(\"Dates\")\n",
    "plt.ylabel(\"Close Price\")\n",
    "plt.setp(plt.gca().xaxis.get_majorticklabels(),\n",
    "         'rotation', 90)\n",
    "plt.legend()\n",
    "plt.show()\n",
    "\n",
    "from sklearn.metrics import mean_squared_error, mean_absolute_error\n",
    "import numpy as np\n",
    "\n",
    "# evaluate performance\n",
    "mse = mean_squared_error(test['y'], predictions['yhat'])\n",
    "print(\"MSE:\", mse)\n",
    "mae = mean_absolute_error(test['y'], predictions['yhat'])\n",
    "print(\"MAE:\", mae)\n",
    "rmse = np.sqrt(mse)\n",
    "print(\"RMSE:\", rmse)"
   ]
  },
  {
   "cell_type": "code",
   "execution_count": null,
   "metadata": {},
   "outputs": [],
   "source": []
  }
 ],
 "metadata": {
  "kernelspec": {
   "display_name": "Python 3 (ipykernel)",
   "language": "python",
   "name": "python3"
  },
  "language_info": {
   "codemirror_mode": {
    "name": "ipython",
    "version": 3
   },
   "file_extension": ".py",
   "mimetype": "text/x-python",
   "name": "python",
   "nbconvert_exporter": "python",
   "pygments_lexer": "ipython3",
   "version": "3.9.13"
  }
 },
 "nbformat": 4,
 "nbformat_minor": 2
}
