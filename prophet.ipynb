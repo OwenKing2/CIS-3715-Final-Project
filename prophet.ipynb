{
 "cells": [
  {
   "cell_type": "code",
   "execution_count": 174,
   "metadata": {},
   "outputs": [],
   "source": [
    "#This is the implementation of the prophet model on our dataset\n",
    "import pandas as pd\n",
    "from prophet import Prophet\n",
    "\n",
    "# Load data\n",
    "df = pd.read_csv(\"archive/Stocks/aapl.us.txt\")\n",
    "\n",
    "# Rename columns to Prophet's expected names\n",
    "df = df.rename(columns={\"Date\": \"ds\", \"Close\": \"y\"})\n",
    "\n",
    "import datetime\n",
    "\n",
    "# convert dates from string to numerical lowers MAE and MSE\n",
    "df['ds'] = pd.to_datetime(df['ds'])\n",
    "# Resample the data at a regular frequency\n",
    "df = df.set_index('ds')\n",
    "df_resampled = df.resample('D').mean().reset_index()\n",
    "#df['ds'] = df['ds'].apply(lambda x: x.timestamp())"
   ]
  },
  {
   "cell_type": "code",
   "execution_count": 175,
   "metadata": {},
   "outputs": [
    {
     "name": "stdout",
     "output_type": "stream",
     "text": [
      "Open : 0.019341986492929602\n",
      "High : 0.40702468398305347\n",
      "Low : 0.5736231272881668\n",
      "Volume : 1.0202235850226811e-05\n",
      "OpenInt : 0.0\n"
     ]
    }
   ],
   "source": [
    "#Use Random Forest Regression to find most important categories\n",
    "from sklearn.ensemble import RandomForestRegressor\n",
    "\n",
    "X = df.drop('y', axis=1)\n",
    "y = df[:]['y']\n",
    "\n",
    "# Train model\n",
    "rf = RandomForestRegressor(n_estimators=100, random_state=42)\n",
    "rf.fit(X, y)\n",
    "\n",
    "# Determine feature importances\n",
    "importances = rf.feature_importances_\n",
    "\n",
    "# Print feature importances\n",
    "for feature, importance in zip(X.columns, importances):\n",
    "    print(feature, ':', importance)"
   ]
  },
  {
   "cell_type": "code",
   "execution_count": 176,
   "metadata": {},
   "outputs": [
    {
     "name": "stdout",
     "output_type": "stream",
     "text": [
      "                 Open       High        Low    Volume  OpenInt\n",
      "ds                                                            \n",
      "1984-09-07    0.42388    0.42902    0.41874  23220030        0\n",
      "1984-09-10    0.42388    0.42516    0.41366  18022532        0\n",
      "1984-09-11    0.42516    0.43668    0.42516  42498199        0\n",
      "1984-09-12    0.42902    0.43157    0.41618  37125801        0\n",
      "1984-09-13    0.43927    0.44052    0.43927  57822062        0\n",
      "...               ...        ...        ...       ...      ...\n",
      "2017-11-06  171.75000  174.36000  171.10000  34901241        0\n",
      "2017-11-07  173.29000  174.51000  173.29000  24424877        0\n",
      "2017-11-08  174.03000  175.61000  173.71000  24451166        0\n",
      "2017-11-09  174.48000  175.46000  172.52000  29533086        0\n",
      "2017-11-10  175.11000  175.38000  174.27000  25130494        0\n",
      "\n",
      "[8364 rows x 5 columns]\n"
     ]
    }
   ],
   "source": [
    "#experiment with dropping features of low importance\n",
    "#X = X[['ds', 'Volume']]\n",
    "print(X)"
   ]
  },
  {
   "cell_type": "code",
   "execution_count": 178,
   "metadata": {},
   "outputs": [],
   "source": [
    "#split the data\n",
    "from sklearn.model_selection import train_test_split\n",
    "X_train, X_test, y_train, y_test = train_test_split(X, y, test_size=0.6, random_state=42)\n",
    "\n",
    "train = X_train\n",
    "train['y'] = y_train\n",
    "\n",
    "# Create future dataframe for dates in test data\n",
    "\"\"\" test = pd.DataFrame({'ds': X_test['ds']})\n",
    "print(test) \"\"\"\n",
    "\n",
    "test = X_test"
   ]
  },
  {
   "cell_type": "code",
   "execution_count": 179,
   "metadata": {},
   "outputs": [
    {
     "ename": "ValueError",
     "evalue": "Dataframe must have columns \"ds\" and \"y\" with the dates and values respectively.",
     "output_type": "error",
     "traceback": [
      "\u001b[1;31m---------------------------------------------------------------------------\u001b[0m",
      "\u001b[1;31mValueError\u001b[0m                                Traceback (most recent call last)",
      "Cell \u001b[1;32mIn[179], line 5\u001b[0m\n\u001b[0;32m      2\u001b[0m model \u001b[39m=\u001b[39m Prophet(changepoint_prior_scale\u001b[39m=\u001b[39m\u001b[39m.1\u001b[39m, seasonality_prior_scale\u001b[39m=\u001b[39m\u001b[39m.01\u001b[39m)\n\u001b[0;32m      4\u001b[0m \u001b[39m# Fit model to training data\u001b[39;00m\n\u001b[1;32m----> 5\u001b[0m model\u001b[39m.\u001b[39;49mfit(train)\n\u001b[0;32m      7\u001b[0m \u001b[39m# make predictions on the test data\u001b[39;00m\n\u001b[0;32m      8\u001b[0m predictions \u001b[39m=\u001b[39m model\u001b[39m.\u001b[39mpredict(test)\n",
      "File \u001b[1;32mc:\\Users\\Patty\\anaconda3\\lib\\site-packages\\prophet\\forecaster.py:1117\u001b[0m, in \u001b[0;36mProphet.fit\u001b[1;34m(self, df, **kwargs)\u001b[0m\n\u001b[0;32m   1114\u001b[0m     \u001b[39mraise\u001b[39;00m \u001b[39mException\u001b[39;00m(\u001b[39m'\u001b[39m\u001b[39mProphet object can only be fit once. \u001b[39m\u001b[39m'\u001b[39m\n\u001b[0;32m   1115\u001b[0m                     \u001b[39m'\u001b[39m\u001b[39mInstantiate a new object.\u001b[39m\u001b[39m'\u001b[39m)\n\u001b[0;32m   1116\u001b[0m \u001b[39mif\u001b[39;00m (\u001b[39m'\u001b[39m\u001b[39mds\u001b[39m\u001b[39m'\u001b[39m \u001b[39mnot\u001b[39;00m \u001b[39min\u001b[39;00m df) \u001b[39mor\u001b[39;00m (\u001b[39m'\u001b[39m\u001b[39my\u001b[39m\u001b[39m'\u001b[39m \u001b[39mnot\u001b[39;00m \u001b[39min\u001b[39;00m df):\n\u001b[1;32m-> 1117\u001b[0m     \u001b[39mraise\u001b[39;00m \u001b[39mValueError\u001b[39;00m(\n\u001b[0;32m   1118\u001b[0m         \u001b[39m'\u001b[39m\u001b[39mDataframe must have columns \u001b[39m\u001b[39m\"\u001b[39m\u001b[39mds\u001b[39m\u001b[39m\"\u001b[39m\u001b[39m and \u001b[39m\u001b[39m\"\u001b[39m\u001b[39my\u001b[39m\u001b[39m\"\u001b[39m\u001b[39m with the dates and \u001b[39m\u001b[39m'\u001b[39m\n\u001b[0;32m   1119\u001b[0m         \u001b[39m'\u001b[39m\u001b[39mvalues respectively.\u001b[39m\u001b[39m'\u001b[39m\n\u001b[0;32m   1120\u001b[0m     )\n\u001b[0;32m   1121\u001b[0m history \u001b[39m=\u001b[39m df[df[\u001b[39m'\u001b[39m\u001b[39my\u001b[39m\u001b[39m'\u001b[39m]\u001b[39m.\u001b[39mnotnull()]\u001b[39m.\u001b[39mcopy()\n\u001b[0;32m   1122\u001b[0m \u001b[39mif\u001b[39;00m history\u001b[39m.\u001b[39mshape[\u001b[39m0\u001b[39m] \u001b[39m<\u001b[39m \u001b[39m2\u001b[39m:\n",
      "\u001b[1;31mValueError\u001b[0m: Dataframe must have columns \"ds\" and \"y\" with the dates and values respectively."
     ]
    }
   ],
   "source": [
    "# Initialize Prophet model\n",
    "model = Prophet(changepoint_prior_scale=.1, seasonality_prior_scale=.01)\n",
    "\n",
    "# Fit model to training data\n",
    "model.fit(train)\n",
    "\n",
    "# make predictions on the test data\n",
    "predictions = model.predict(test)"
   ]
  },
  {
   "cell_type": "code",
   "execution_count": null,
   "metadata": {},
   "outputs": [
    {
     "name": "stdout",
     "output_type": "stream",
     "text": [
      "MAE: 32.3565103036793\n",
      "Mean Squared Error: 2721.048989142013\n"
     ]
    }
   ],
   "source": [
    "from sklearn.metrics import mean_squared_error, mean_absolute_error\n",
    "# evaluate performance\n",
    "mae = mean_absolute_error(y_test, predictions['yhat'])\n",
    "print(\"MAE:\", mae)\n",
    "mse = mean_squared_error(y_test, predictions['yhat'])\n",
    "print(\"Mean Squared Error:\", mse)"
   ]
  },
  {
   "cell_type": "code",
   "execution_count": 187,
   "metadata": {},
   "outputs": [
    {
     "name": "stdout",
     "output_type": "stream",
     "text": [
      "              ds       Open       High        Low          y      Volume  \\\n",
      "0     1984-09-07    0.42388    0.42902    0.41874    0.42388  23220030.0   \n",
      "1     1984-09-08    0.42388    0.42902    0.41874    0.42388  23220030.0   \n",
      "2     1984-09-09    0.42388    0.42902    0.41874    0.42388  23220030.0   \n",
      "3     1984-09-10    0.42388    0.42516    0.41366    0.42134  18022532.0   \n",
      "4     1984-09-11    0.42516    0.43668    0.42516    0.42902  42498199.0   \n",
      "...          ...        ...        ...        ...        ...         ...   \n",
      "12113 2017-11-06  171.75000  174.36000  171.10000  173.63000  34901241.0   \n",
      "12114 2017-11-07  173.29000  174.51000  173.29000  174.18000  24424877.0   \n",
      "12115 2017-11-08  174.03000  175.61000  173.71000  175.61000  24451166.0   \n",
      "12116 2017-11-09  174.48000  175.46000  172.52000  175.25000  29533086.0   \n",
      "12117 2017-11-10  175.11000  175.38000  174.27000  174.67000  25130494.0   \n",
      "\n",
      "       OpenInt  \n",
      "0          0.0  \n",
      "1          0.0  \n",
      "2          0.0  \n",
      "3          0.0  \n",
      "4          0.0  \n",
      "...        ...  \n",
      "12113      0.0  \n",
      "12114      0.0  \n",
      "12115      0.0  \n",
      "12116      0.0  \n",
      "12117      0.0  \n",
      "\n",
      "[12118 rows x 7 columns]\n"
     ]
    },
    {
     "name": "stderr",
     "output_type": "stream",
     "text": [
      "14:20:57 - cmdstanpy - INFO - Chain [1] start processing\n",
      "14:21:03 - cmdstanpy - INFO - Chain [1] done processing\n"
     ]
    },
    {
     "name": "stdout",
     "output_type": "stream",
     "text": [
      "MAE: 32.62370113248931\n",
      "Mean Squared Error: 2741.047850938463\n"
     ]
    },
    {
     "data": {
      "text/plain": [
       "' future = model.make_future_dataframe(periods=365)\\nforecast = model.predict(future) '"
      ]
     },
     "execution_count": 187,
     "metadata": {},
     "output_type": "execute_result"
    }
   ],
   "source": [
    "from prophet import Prophet\n",
    "import pandas as pd\n",
    "\n",
    "# Load example data\n",
    "df = pd.read_csv('archive/Stocks/aapl.us.txt')\n",
    "\n",
    "# Rename columns to 'ds' and 'y'\n",
    "df = df.rename(columns={'Date': 'ds', 'Close': 'y'})\n",
    "\n",
    "# Convert the date column to a datetime object\n",
    "df['ds'] = pd.to_datetime(df['ds'])\n",
    "\n",
    "# Resample the data at a regular frequency\n",
    "df = df.set_index('ds')\n",
    "df_resampled = df.resample('D').mean().fillna(method='ffill').reset_index()\n",
    "\n",
    "X = df_resampled.drop('y', axis=1)\n",
    "y = df_resampled[:]['y']\n",
    "\n",
    "print(df_resampled)\n",
    "\n",
    "#split the data\n",
    "from sklearn.model_selection import train_test_split\n",
    "X_train, X_test, y_train, y_test = train_test_split(X, y, test_size=0.6, random_state=42)\n",
    "\n",
    "train = X_train\n",
    "train['y'] = y_train\n",
    "\n",
    "# Create future dataframe for dates in test data\n",
    "\"\"\" test = pd.DataFrame({'ds': X_test['ds']})\n",
    "print(test) \"\"\"\n",
    "\n",
    "test = X_test\n",
    "\n",
    "# Create Prophet model\n",
    "model = Prophet()\n",
    "\n",
    "# Fit the model and make predictions\n",
    "model.fit(train)\n",
    "# make predictions on the test data\n",
    "predictions = model.predict(test)\n",
    "from sklearn.metrics import mean_squared_error, mean_absolute_error\n",
    "# evaluate performance\n",
    "mae = mean_absolute_error(y_test, predictions['yhat'])\n",
    "print(\"MAE:\", mae)\n",
    "mse = mean_squared_error(y_test, predictions['yhat'])\n",
    "print(\"Mean Squared Error:\", mse)\n",
    "\n",
    "\"\"\" future = model.make_future_dataframe(periods=365)\n",
    "forecast = model.predict(future) \"\"\"\n"
   ]
  }
 ],
 "metadata": {
  "kernelspec": {
   "display_name": "base",
   "language": "python",
   "name": "python3"
  },
  "language_info": {
   "codemirror_mode": {
    "name": "ipython",
    "version": 3
   },
   "file_extension": ".py",
   "mimetype": "text/x-python",
   "name": "python",
   "nbconvert_exporter": "python",
   "pygments_lexer": "ipython3",
   "version": "3.10.9"
  },
  "orig_nbformat": 4
 },
 "nbformat": 4,
 "nbformat_minor": 2
}
