{
 "cells": [
  {
   "cell_type": "code",
   "execution_count": 88,
   "metadata": {},
   "outputs": [],
   "source": [
    "#This is the implementation of the prophet model on our dataset\n",
    "import pandas as pd\n",
    "from prophet import Prophet\n",
    "\n",
    "# Load data\n",
    "df = pd.read_csv(\"archive/Stocks/aapl.us.txt\")\n",
    "\n",
    "# Rename columns to Prophet's expected names\n",
    "df = df.rename(columns={\"Date\": \"ds\", \"Close\": \"y\"})\n",
    "\n",
    "import datetime\n",
    "\n",
    "# convert dates from string to numerical lowers MAE and MSE\n",
    "df['ds'] = pd.to_datetime(df['ds'])\n",
    "df['ds'] = df['ds'].apply(lambda x: x.timestamp())"
   ]
  },
  {
   "cell_type": "code",
   "execution_count": 89,
   "metadata": {},
   "outputs": [
    {
     "name": "stdout",
     "output_type": "stream",
     "text": [
      "ds : 0.008569638252394117\n",
      "Open : 0.013539909786385751\n",
      "High : 0.40417756938062516\n",
      "Low : 0.5737040218033235\n",
      "Volume : 8.860777271552187e-06\n",
      "OpenInt : 0.0\n"
     ]
    }
   ],
   "source": [
    "#Use Random Forest Regression to find most important categories\n",
    "from sklearn.ensemble import RandomForestRegressor\n",
    "\n",
    "X = df.drop('y', axis=1)\n",
    "y = df[:]['y']\n",
    "\n",
    "# Train model\n",
    "rf = RandomForestRegressor(n_estimators=100, random_state=42)\n",
    "rf.fit(X, y)\n",
    "\n",
    "# Determine feature importances\n",
    "importances = rf.feature_importances_\n",
    "\n",
    "# Print feature importances\n",
    "for feature, importance in zip(X.columns, importances):\n",
    "    print(feature, ':', importance)"
   ]
  },
  {
   "cell_type": "code",
   "execution_count": 90,
   "metadata": {},
   "outputs": [
    {
     "name": "stdout",
     "output_type": "stream",
     "text": [
      "                ds    Volume\n",
      "0     4.633632e+08  23220030\n",
      "1     4.636224e+08  18022532\n",
      "2     4.637088e+08  42498199\n",
      "3     4.637952e+08  37125801\n",
      "4     4.638816e+08  57822062\n",
      "...            ...       ...\n",
      "8359  1.509926e+09  34901241\n",
      "8360  1.510013e+09  24424877\n",
      "8361  1.510099e+09  24451166\n",
      "8362  1.510186e+09  29533086\n",
      "8363  1.510272e+09  25130494\n",
      "\n",
      "[8364 rows x 2 columns]\n"
     ]
    }
   ],
   "source": [
    "#experiment with dropping features of low importance\n",
    "X = X[['ds', 'Volume']]\n",
    "print(X)"
   ]
  },
  {
   "cell_type": "code",
   "execution_count": 114,
   "metadata": {},
   "outputs": [
    {
     "name": "stdout",
     "output_type": "stream",
     "text": [
      "                ds\n",
      "2412  7.642944e+08\n",
      "6829  1.317946e+09\n",
      "6592  1.288310e+09\n",
      "5786  1.187568e+09\n",
      "5391  1.138061e+09\n",
      "...            ...\n",
      "7844  1.445386e+09\n",
      "459   5.206464e+08\n",
      "7790  1.438733e+09\n",
      "948   5.817312e+08\n",
      "3700  9.253440e+08\n",
      "\n",
      "[5019 rows x 1 columns]\n"
     ]
    }
   ],
   "source": [
    "#split the data\n",
    "from sklearn.model_selection import train_test_split\n",
    "X_train, X_test, y_train, y_test = train_test_split(X, y, test_size=0.6, random_state=42)\n",
    "\n",
    "train = X_train\n",
    "train['y'] = y_train\n",
    "\n",
    "# Create future dataframe for dates in test data\n",
    "test = pd.DataFrame({'ds': X_test['ds']})\n",
    "print(test)"
   ]
  },
  {
   "cell_type": "code",
   "execution_count": 115,
   "metadata": {},
   "outputs": [
    {
     "name": "stderr",
     "output_type": "stream",
     "text": [
      "20:28:57 - cmdstanpy - INFO - Chain [1] start processing\n",
      "20:28:59 - cmdstanpy - INFO - Chain [1] done processing\n"
     ]
    },
    {
     "data": {
      "text/plain": [
       "' # Create future dataframe for predictions\\nfuture = model.make_future_dataframe(periods=365)\\n\\n# Make predictions\\nforecast = model.predict(future)\\n\\n# Plot predictions\\nfig = model.plot(forecast) '"
      ]
     },
     "execution_count": 115,
     "metadata": {},
     "output_type": "execute_result"
    }
   ],
   "source": [
    "# Initialize Prophet model\n",
    "model = Prophet()\n",
    "\n",
    "# Fit model to training data\n",
    "model.fit(train)\n",
    "\n",
    "# make predictions on the test data\n",
    "predictions = model.predict(test)\n",
    "\n",
    "\"\"\" # Create future dataframe for predictions\n",
    "future = model.make_future_dataframe(periods=365)\n",
    "\n",
    "# Make predictions\n",
    "forecast = model.predict(future)\n",
    "\n",
    "# Plot predictions\n",
    "fig = model.plot(forecast) \"\"\""
   ]
  },
  {
   "cell_type": "code",
   "execution_count": 116,
   "metadata": {},
   "outputs": [
    {
     "name": "stdout",
     "output_type": "stream",
     "text": [
      "MAE: 32.3573004082172\n",
      "Mean Squared Error: 2720.561378365433\n"
     ]
    }
   ],
   "source": [
    "from sklearn.metrics import mean_squared_error, mean_absolute_error\n",
    "# evaluate performance\n",
    "mae = mean_absolute_error(y_test, predictions['yhat'])\n",
    "print(\"MAE:\", mae)\n",
    "mse = mean_squared_error(y_test, predictions['yhat'])\n",
    "print(\"Mean Squared Error:\", mse)"
   ]
  }
 ],
 "metadata": {
  "kernelspec": {
   "display_name": "base",
   "language": "python",
   "name": "python3"
  },
  "language_info": {
   "codemirror_mode": {
    "name": "ipython",
    "version": 3
   },
   "file_extension": ".py",
   "mimetype": "text/x-python",
   "name": "python",
   "nbconvert_exporter": "python",
   "pygments_lexer": "ipython3",
   "version": "3.10.9"
  },
  "orig_nbformat": 4
 },
 "nbformat": 4,
 "nbformat_minor": 2
}
