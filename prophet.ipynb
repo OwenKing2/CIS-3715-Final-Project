{
 "cells": [
  {
   "cell_type": "code",
   "execution_count": 249,
   "metadata": {},
   "outputs": [
    {
     "name": "stdout",
     "output_type": "stream",
     "text": [
      "100\n"
     ]
    },
    {
     "name": "stderr",
     "output_type": "stream",
     "text": [
      "15:41:14 - cmdstanpy - INFO - Chain [1] start processing\n",
      "15:41:14 - cmdstanpy - INFO - Chain [1] done processing\n"
     ]
    },
    {
     "name": "stdout",
     "output_type": "stream",
     "text": [
      "600\n"
     ]
    },
    {
     "name": "stderr",
     "output_type": "stream",
     "text": [
      "15:41:23 - cmdstanpy - INFO - Chain [1] start processing\n",
      "15:41:24 - cmdstanpy - INFO - Chain [1] done processing\n"
     ]
    },
    {
     "name": "stdout",
     "output_type": "stream",
     "text": [
      "1100\n"
     ]
    },
    {
     "name": "stderr",
     "output_type": "stream",
     "text": [
      "15:41:32 - cmdstanpy - INFO - Chain [1] start processing\n",
      "15:41:34 - cmdstanpy - INFO - Chain [1] done processing\n"
     ]
    },
    {
     "name": "stdout",
     "output_type": "stream",
     "text": [
      "1600\n"
     ]
    },
    {
     "name": "stderr",
     "output_type": "stream",
     "text": [
      "15:41:41 - cmdstanpy - INFO - Chain [1] start processing\n",
      "15:41:43 - cmdstanpy - INFO - Chain [1] done processing\n"
     ]
    },
    {
     "name": "stdout",
     "output_type": "stream",
     "text": [
      "2100\n"
     ]
    },
    {
     "name": "stderr",
     "output_type": "stream",
     "text": [
      "15:41:50 - cmdstanpy - INFO - Chain [1] start processing\n",
      "15:41:53 - cmdstanpy - INFO - Chain [1] done processing\n"
     ]
    },
    {
     "name": "stdout",
     "output_type": "stream",
     "text": [
      "2600\n"
     ]
    },
    {
     "name": "stderr",
     "output_type": "stream",
     "text": [
      "15:42:01 - cmdstanpy - INFO - Chain [1] start processing\n",
      "15:42:04 - cmdstanpy - INFO - Chain [1] done processing\n"
     ]
    },
    {
     "name": "stdout",
     "output_type": "stream",
     "text": [
      "3100\n"
     ]
    },
    {
     "name": "stderr",
     "output_type": "stream",
     "text": [
      "15:42:12 - cmdstanpy - INFO - Chain [1] start processing\n",
      "15:42:16 - cmdstanpy - INFO - Chain [1] done processing\n"
     ]
    },
    {
     "name": "stdout",
     "output_type": "stream",
     "text": [
      "3600\n"
     ]
    },
    {
     "name": "stderr",
     "output_type": "stream",
     "text": [
      "15:42:24 - cmdstanpy - INFO - Chain [1] start processing\n",
      "15:42:31 - cmdstanpy - INFO - Chain [1] done processing\n"
     ]
    },
    {
     "name": "stdout",
     "output_type": "stream",
     "text": [
      "4100\n"
     ]
    },
    {
     "name": "stderr",
     "output_type": "stream",
     "text": [
      "15:42:38 - cmdstanpy - INFO - Chain [1] start processing\n",
      "15:42:45 - cmdstanpy - INFO - Chain [1] done processing\n"
     ]
    },
    {
     "name": "stdout",
     "output_type": "stream",
     "text": [
      "4600\n"
     ]
    },
    {
     "name": "stderr",
     "output_type": "stream",
     "text": [
      "15:42:52 - cmdstanpy - INFO - Chain [1] start processing\n",
      "15:42:59 - cmdstanpy - INFO - Chain [1] done processing\n"
     ]
    },
    {
     "name": "stdout",
     "output_type": "stream",
     "text": [
      "5100\n"
     ]
    },
    {
     "name": "stderr",
     "output_type": "stream",
     "text": [
      "15:43:05 - cmdstanpy - INFO - Chain [1] start processing\n",
      "15:43:25 - cmdstanpy - INFO - Chain [1] done processing\n"
     ]
    },
    {
     "name": "stdout",
     "output_type": "stream",
     "text": [
      "5600\n"
     ]
    },
    {
     "name": "stderr",
     "output_type": "stream",
     "text": [
      "15:43:31 - cmdstanpy - INFO - Chain [1] start processing\n",
      "15:43:43 - cmdstanpy - INFO - Chain [1] done processing\n"
     ]
    },
    {
     "name": "stdout",
     "output_type": "stream",
     "text": [
      "6100\n"
     ]
    },
    {
     "name": "stderr",
     "output_type": "stream",
     "text": [
      "15:43:49 - cmdstanpy - INFO - Chain [1] start processing\n",
      "15:44:04 - cmdstanpy - INFO - Chain [1] done processing\n"
     ]
    },
    {
     "name": "stdout",
     "output_type": "stream",
     "text": [
      "6600\n"
     ]
    },
    {
     "name": "stderr",
     "output_type": "stream",
     "text": [
      "15:44:09 - cmdstanpy - INFO - Chain [1] start processing\n",
      "15:44:20 - cmdstanpy - INFO - Chain [1] done processing\n"
     ]
    },
    {
     "name": "stdout",
     "output_type": "stream",
     "text": [
      "7100\n"
     ]
    },
    {
     "name": "stderr",
     "output_type": "stream",
     "text": [
      "15:44:25 - cmdstanpy - INFO - Chain [1] start processing\n",
      "15:44:45 - cmdstanpy - INFO - Chain [1] done processing\n"
     ]
    },
    {
     "name": "stdout",
     "output_type": "stream",
     "text": [
      "7600\n"
     ]
    },
    {
     "name": "stderr",
     "output_type": "stream",
     "text": [
      "15:44:50 - cmdstanpy - INFO - Chain [1] start processing\n",
      "15:45:12 - cmdstanpy - INFO - Chain [1] done processing\n"
     ]
    },
    {
     "name": "stdout",
     "output_type": "stream",
     "text": [
      "8100\n"
     ]
    },
    {
     "name": "stderr",
     "output_type": "stream",
     "text": [
      "15:45:17 - cmdstanpy - INFO - Chain [1] start processing\n",
      "15:45:39 - cmdstanpy - INFO - Chain [1] done processing\n"
     ]
    },
    {
     "name": "stdout",
     "output_type": "stream",
     "text": [
      "{'mae': 14.898297574295828, 'i': 7100}\n"
     ]
    },
    {
     "data": {
      "text/plain": [
       "' # Plot the predicted and actual values\\nplt.plot(predictions[\\'ds\\'], predictions[\\'yhat\\'], label=\\'Predicted\\')\\nplt.plot(predictions[\\'ds\\'], test[\\'y\\'], label=\\'Actual\\')\\nplt.legend()\\nplt.show()\\n\\nfrom sklearn.metrics import mean_squared_error, mean_absolute_error\\n# evaluate performance\\nmae = mean_absolute_error(test[\\'y\\'], predictions[\\'yhat\\'])\\nprint(\"MAE:\", mae)\\nmse = mean_squared_error(test[\\'y\\'], predictions[\\'yhat\\'])\\nprint(\"Mean Squared Error:\", mse)\\n\\nprint(train)\\nprint(test) '"
      ]
     },
     "execution_count": 249,
     "metadata": {},
     "output_type": "execute_result"
    }
   ],
   "source": [
    "#This is the implementation of the prophet model on our dataset\n",
    "import pandas as pd\n",
    "from prophet import Prophet\n",
    "\n",
    "# Load data\n",
    "df = pd.read_csv(\"archive/Stocks/aapl.us.txt\")\n",
    "\n",
    "# Rename columns to Prophet's expected names\n",
    "df = df.rename(columns={\"Date\": \"ds\", \"Close\": \"y\"})\n",
    "\n",
    "import datetime\n",
    "\n",
    "# convert dates from string to numerical lowers MAE and MSE\n",
    "df['ds'] = pd.to_datetime(df['ds'])\n",
    "\n",
    "import matplotlib.pyplot as plt\n",
    "low = {'mae': 0, 'i': 0}\n",
    "for i in range(100, len(df), 500):\n",
    "    print(i)\n",
    "    # split the data into training and testing sets\n",
    "    train = df.iloc[:i]\n",
    "    test = df.iloc[i:]\n",
    "    test = test.reset_index(drop=True)\n",
    "\n",
    "    # Initialize Prophet model\n",
    "    model = Prophet()\n",
    "\n",
    "    model.add_seasonality(name='weekly', period=7, fourier_order=15)\n",
    "\n",
    "    # Fit model to training data\n",
    "    model.fit(train)\n",
    "\n",
    "    # make predictions on the test data\n",
    "    predictions = model.predict(test)\n",
    "    mae = mean_absolute_error(test['y'], predictions['yhat'])\n",
    "    if i == 100:\n",
    "        low['mae'] = mae\n",
    "        low['i'] = i\n",
    "    \n",
    "    if mae < low['mae']:\n",
    "        low['mae'] = mae\n",
    "        low['i'] = i\n",
    "\n",
    "print(low)"
   ]
  },
  {
   "cell_type": "code",
   "execution_count": 257,
   "metadata": {},
   "outputs": [
    {
     "name": "stderr",
     "output_type": "stream",
     "text": [
      "15:55:35 - cmdstanpy - INFO - Chain [1] start processing\n",
      "15:55:52 - cmdstanpy - INFO - Chain [1] done processing\n"
     ]
    },
    {
     "data": {
      "image/png": "[encoded data removed]",
      "text/plain": [
       "<Figure size 640x480 with 1 Axes>"
      ]
     },
     "metadata": {},
     "output_type": "display_data"
    },
    {
     "name": "stdout",
     "output_type": "stream",
     "text": [
      "MAE: 14.898297574295828\n",
      "MSE: 364.14405584379165\n",
      "RMSE: 19.082558943804987\n"
     ]
    }
   ],
   "source": [
    "# split the data into training and testing sets\n",
    "\"\"\" train = df.iloc[:7100]\n",
    "test = df.iloc[7100:] \"\"\"\n",
    "\n",
    "test = test.reset_index(drop=True)\n",
    "\n",
    "# Initialize Prophet model\n",
    "model = Prophet()\n",
    "\n",
    "model.add_seasonality(name='weekly', period=7, fourier_order=15)\n",
    "\n",
    "# Fit model to training data\n",
    "model.fit(train)\n",
    "\n",
    "# make predictions on the test data\n",
    "predictions = model.predict(test)\n",
    "\n",
    "# Plot the predicted and actual values\n",
    "plt.plot(predictions['ds'], predictions['yhat'], label='Predicted')\n",
    "plt.plot(predictions['ds'], test['y'], label='Actual')\n",
    "plt.legend()\n",
    "plt.show()\n",
    "\n",
    "from sklearn.metrics import mean_squared_error, mean_absolute_error\n",
    "import numpy as np\n",
    "\n",
    "# evaluate performance\n",
    "mae = mean_absolute_error(test['y'], predictions['yhat'])\n",
    "print(\"MAE:\", mae)\n",
    "mse = mean_squared_error(test['y'], predictions['yhat'])\n",
    "print(\"MSE:\", mse)\n",
    "rmse = np.sqrt(mse)\n",
    "print(\"RMSE:\", rmse)"
   ]
  }
 ],
 "metadata": {
  "kernelspec": {
   "display_name": "base",
   "language": "python",
   "name": "python3"
  },
  "language_info": {
   "codemirror_mode": {
    "name": "ipython",
    "version": 3
   },
   "file_extension": ".py",
   "mimetype": "text/x-python",
   "name": "python",
   "nbconvert_exporter": "python",
   "pygments_lexer": "ipython3",
   "version": "3.10.9"
  },
  "orig_nbformat": 4
 },
 "nbformat": 4,
 "nbformat_minor": 2
}
